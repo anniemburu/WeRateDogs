{
 "cells": [
  {
   "cell_type": "markdown",
   "metadata": {},
   "source": [
    "# WeRate Dogs Act Report\n",
    "\n",
    "## Introduction\n",
    "This report is on Data Vizualization on a Twitter archive of a Twitter account called [@dog_rates](\"https://twitter.com/dog_rates\") also known known as WeRateDogs. I had already wrangled, assessed and clean the data to a formed that can be analysed easily.\n",
    "\n",
    "## Insights\n",
    "#### Retweets and Tweets have strong positive correlation.\n",
    "The relationship betweet tweets and favorites(likes) is a strong positive correlation. Ploting a scatter of retweets vs favorites produces the following plot.\n",
    "<img src=\"retwfav.png\">\n",
    "We can clearly see the trend that as the number of retweets increase so does the number favorites.\n",
    "\n",
    "#### Highly rated dogs have high retweets.\n",
    "Ploting ratings vs retweets produces the following plot:\n",
    "<img src=\"rr.png\">\n",
    "From the plot above we can see that highly ratedd dogs have a high number of retweet. Having a rating of an average of 9 has high number of retweets. Although we can also observe that dogs which were rated lowly but have a a large number of retweets.\n",
    "\n",
    "#### Highly rated dogs have high favorites.\n",
    "Ploting ratings vs favorites.\n",
    "<img src=\"rf.png\">\n",
    "The plot above shows that dogs with an average of 9 has a high number of favorites. Also like retweets, there are dogss which received low ratings but have a high number of fevorites.\n",
    "\n",
    "####  Highly rated dogs have high retweets and Favorites.\n",
    "Plotting retweets against ratings vs favorites produces the following plot:\n",
    "<img src=\"rrf.png\">\n",
    "From the diagram above, we can clearly see that the dogs with high ratings tend to have more favorites and retweets. The trend shows that as the ratings increase, so does the number of retweets and fevorites. However there are low ratings that have high number retweets and favorites and highly ratings with less retweets and favorites. Gerenally dogs with high ratings tend to have more favorites and retweets.\n",
    "\n",
    "#### Common Rating is 13.\n",
    "Ploting a histogram of ratings, we ge the following plot.\n",
    "<img src=\"h_rating.png\">\n",
    "From the histogram above we can see that is the rating given by the highest number of dog is 13 and the lowest being 0.\n",
    "\n",
    "<img src=\"h_rating.png\">\n",
    "Using the botplot above, we can observe the following:\n",
    "- The maximum rating is 13.\n",
    "- The outliers are 0,2,3,4,5,6.\n",
    "- The median rating is 11.\n"
   ]
  },
  {
   "cell_type": "markdown",
   "metadata": {},
   "source": []
  }
 ],
 "metadata": {
  "kernelspec": {
   "display_name": "Python 3",
   "language": "python",
   "name": "python3"
  },
  "language_info": {
   "codemirror_mode": {
    "name": "ipython",
    "version": 3
   },
   "file_extension": ".py",
   "mimetype": "text/x-python",
   "name": "python",
   "nbconvert_exporter": "python",
   "pygments_lexer": "ipython3",
   "version": "3.8.2"
  }
 },
 "nbformat": 4,
 "nbformat_minor": 4
}
